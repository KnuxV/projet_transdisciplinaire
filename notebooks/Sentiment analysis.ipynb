{
 "cells": [
  {
   "cell_type": "code",
   "execution_count": 1,
   "id": "029a2510",
   "metadata": {
    "scrolled": true
   },
   "outputs": [
    {
     "name": "stderr",
     "output_type": "stream",
     "text": [
      "[nltk_data] Downloading package vader_lexicon to /home/kevin-\n",
      "[nltk_data]     main/nltk_data...\n",
      "[nltk_data]   Package vader_lexicon is already up-to-date!\n"
     ]
    }
   ],
   "source": [
    "import pandas as pd\n",
    "import numpy as np\n",
    "import nltk\n",
    "nltk.download('vader_lexicon')\n",
    "from nltk.sentiment.vader import SentimentIntensityAnalyzer"
   ]
  },
  {
   "cell_type": "code",
   "execution_count": 3,
   "id": "d8ce4cec",
   "metadata": {},
   "outputs": [],
   "source": [
    "sid = SentimentIntensityAnalyzer()"
   ]
  },
  {
   "cell_type": "code",
   "execution_count": 4,
   "id": "027a867e",
   "metadata": {},
   "outputs": [
    {
     "data": {
      "text/plain": [
       "{'neg': 0.0, 'neu': 0.508, 'pos': 0.492, 'compound': 0.4404}"
      ]
     },
     "execution_count": 4,
     "metadata": {},
     "output_type": "execute_result"
    }
   ],
   "source": [
    "a = 'This was a good movie.'\n",
    "sid.polarity_scores(a)"
   ]
  },
  {
   "cell_type": "code",
   "execution_count": 6,
   "id": "b2509b50",
   "metadata": {},
   "outputs": [
    {
     "data": {
      "text/html": [
       "<div>\n",
       "<style scoped>\n",
       "    .dataframe tbody tr th:only-of-type {\n",
       "        vertical-align: middle;\n",
       "    }\n",
       "\n",
       "    .dataframe tbody tr th {\n",
       "        vertical-align: top;\n",
       "    }\n",
       "\n",
       "    .dataframe thead th {\n",
       "        text-align: right;\n",
       "    }\n",
       "</style>\n",
       "<table border=\"1\" class=\"dataframe\">\n",
       "  <thead>\n",
       "    <tr style=\"text-align: right;\">\n",
       "      <th></th>\n",
       "      <th>PT</th>\n",
       "      <th>AU</th>\n",
       "      <th>TI</th>\n",
       "      <th>LA</th>\n",
       "      <th>DE</th>\n",
       "      <th>AB</th>\n",
       "      <th>C1</th>\n",
       "      <th>PY</th>\n",
       "      <th>CN</th>\n",
       "      <th>TXT</th>\n",
       "    </tr>\n",
       "  </thead>\n",
       "  <tbody>\n",
       "    <tr>\n",
       "      <th>4</th>\n",
       "      <td>J</td>\n",
       "      <td>Yang, J; Deng, X; Liu, QQ; Ding, RH</td>\n",
       "      <td>Temperature error-correction method for surfac...</td>\n",
       "      <td>English</td>\n",
       "      <td>climate change; computational fluid dynamics; ...</td>\n",
       "      <td>In climate change research, accurate temperatu...</td>\n",
       "      <td>[Yang, Jie; Deng, Xuan; Liu, Qingquan] Nanjing...</td>\n",
       "      <td>2020</td>\n",
       "      <td>[China, China, China]</td>\n",
       "      <td>Temperature error-correction method for surfac...</td>\n",
       "    </tr>\n",
       "    <tr>\n",
       "      <th>27</th>\n",
       "      <td>J</td>\n",
       "      <td>Mishra, U; Gautam, S; Riley, WJ; Hoffman, FM</td>\n",
       "      <td>Ensemble Machine Learning Approach Improves Pr...</td>\n",
       "      <td>English</td>\n",
       "      <td>soil organic carbon; spatial prediction; machi...</td>\n",
       "      <td>Various approaches of differing mathematical c...</td>\n",
       "      <td>[Mishra, Umakant; Gautam, Sagar] Sandia Natl L...</td>\n",
       "      <td>2020</td>\n",
       "      <td>[United States, United States, United States]</td>\n",
       "      <td>Ensemble Machine Learning Approach Improves Pr...</td>\n",
       "    </tr>\n",
       "    <tr>\n",
       "      <th>86</th>\n",
       "      <td>J</td>\n",
       "      <td>Coro, G</td>\n",
       "      <td>OPEN SCIENCE AND ARTIFICIAL INTELLIGENCE SUPPO...</td>\n",
       "      <td>English</td>\n",
       "      <td>artificial intelligence; big data; blue growth...</td>\n",
       "      <td>The long-term EU strategy to support the susta...</td>\n",
       "      <td>[Coro, Gianpaolo] Natl Res Council Italy ISTI ...</td>\n",
       "      <td>2020</td>\n",
       "      <td>[Italy]</td>\n",
       "      <td>OPEN SCIENCE AND ARTIFICIAL INTELLIGENCE SUPPO...</td>\n",
       "    </tr>\n",
       "    <tr>\n",
       "      <th>164</th>\n",
       "      <td>J</td>\n",
       "      <td>Siddiqui, S; Conkle, JL; Sadovski, A</td>\n",
       "      <td>Contiguous US surface water availability and s...</td>\n",
       "      <td>English</td>\n",
       "      <td>Wastewater treatment plant effluent flow model...</td>\n",
       "      <td>Surface water is a vital and sometimes stresse...</td>\n",
       "      <td>[Siddiqui, Samreen; Conkle, Jeremy L.] Texas A...</td>\n",
       "      <td>2020</td>\n",
       "      <td>[United States, United States]</td>\n",
       "      <td>Contiguous US surface water availability and s...</td>\n",
       "    </tr>\n",
       "    <tr>\n",
       "      <th>179</th>\n",
       "      <td>J</td>\n",
       "      <td>Webber, H; Lischeid, G; Sommer, M; Finger, R; ...</td>\n",
       "      <td>No perfect storm for crop yield failure in Ger...</td>\n",
       "      <td>English</td>\n",
       "      <td>crop yield failure; extreme events; support ve...</td>\n",
       "      <td>Large-scale crop yield failures are increasing...</td>\n",
       "      <td>[Webber, Heidi; Lischeid, Gunnar; Sommer, Mich...</td>\n",
       "      <td>2020</td>\n",
       "      <td>[Germany, Germany, Germany, Switzerland, Germany]</td>\n",
       "      <td>No perfect storm for crop yield failure in Ger...</td>\n",
       "    </tr>\n",
       "    <tr>\n",
       "      <th>...</th>\n",
       "      <td>...</td>\n",
       "      <td>...</td>\n",
       "      <td>...</td>\n",
       "      <td>...</td>\n",
       "      <td>...</td>\n",
       "      <td>...</td>\n",
       "      <td>...</td>\n",
       "      <td>...</td>\n",
       "      <td>...</td>\n",
       "      <td>...</td>\n",
       "    </tr>\n",
       "    <tr>\n",
       "      <th>718</th>\n",
       "      <td>J</td>\n",
       "      <td>Romero-Mujalli, D; Cappelletto, J; Herrera, EA...</td>\n",
       "      <td>The effect of social learning in a small popul...</td>\n",
       "      <td>English</td>\n",
       "      <td>Learning; Social learning; Agent-based simulat...</td>\n",
       "      <td>Learning is defined as behavioral modification...</td>\n",
       "      <td>[Romero-Mujalli, Daniel; Tarano, Zaida] Cent U...</td>\n",
       "      <td>2017</td>\n",
       "      <td>[Venezuela, Venezuela, Venezuela, Germany]</td>\n",
       "      <td>The effect of social learning in a small popul...</td>\n",
       "    </tr>\n",
       "    <tr>\n",
       "      <th>897</th>\n",
       "      <td>C</td>\n",
       "      <td>Jamshidi, P; Siegmund, N; Velez, M; Kastner, C...</td>\n",
       "      <td>Transfer Learning for Performance Modeling of ...</td>\n",
       "      <td>English</td>\n",
       "      <td>Performance analysis; transfer learning</td>\n",
       "      <td>Modern software systems provide many configura...</td>\n",
       "      <td>[Jamshidi, Pooyan; Velez, Miguel; Kaestner, Ch...</td>\n",
       "      <td>2017</td>\n",
       "      <td>[United States, Germany]</td>\n",
       "      <td>Transfer Learning for Performance Modeling of ...</td>\n",
       "    </tr>\n",
       "    <tr>\n",
       "      <th>941</th>\n",
       "      <td>J</td>\n",
       "      <td>Freitas, LPS; Lopes, MLM; Carvalho, LB; Panoss...</td>\n",
       "      <td>Forecasting the spatiotemporal variability of ...</td>\n",
       "      <td>English</td>\n",
       "      <td>Neural techniques; Soil respiration; Green har...</td>\n",
       "      <td>Carbon dioxide (CO2) is considered one of the ...</td>\n",
       "      <td>[Freitas, Luciana P. S.; Minussi, Carlos R.; L...</td>\n",
       "      <td>2018</td>\n",
       "      <td>[Brazil, Brazil, Brazil, Brazil, Brazil]</td>\n",
       "      <td>Forecasting the spatiotemporal variability of ...</td>\n",
       "    </tr>\n",
       "    <tr>\n",
       "      <th>980</th>\n",
       "      <td>J</td>\n",
       "      <td>Lindkvist, E; Ekeberg, O; Norberg, J</td>\n",
       "      <td>Strategies for sustainable management of renew...</td>\n",
       "      <td>English</td>\n",
       "      <td>natural resource management; adaptive manageme...</td>\n",
       "      <td>As a consequence of global environmental chang...</td>\n",
       "      <td>[Lindkvist, Emilie; Norberg, Jon] Stockholm Un...</td>\n",
       "      <td>2017</td>\n",
       "      <td>[Sweden, Sweden]</td>\n",
       "      <td>Strategies for sustainable management of renew...</td>\n",
       "    </tr>\n",
       "    <tr>\n",
       "      <th>995</th>\n",
       "      <td>J</td>\n",
       "      <td>Ho, YH; Huang, YT; Chu, HH; Chen, LJ</td>\n",
       "      <td>Adaptive sensing scheme using naive Bayes clas...</td>\n",
       "      <td>English</td>\n",
       "      <td>Adaptive sensing; naive Bayes classification; ...</td>\n",
       "      <td>Environmental sensors are important for collec...</td>\n",
       "      <td>[Ho, Yao-Hua] Natl Taiwan Normal Univ, 88,Sec ...</td>\n",
       "      <td>2018</td>\n",
       "      <td>[Taiwan, Taiwan, Taiwan]</td>\n",
       "      <td>Adaptive sensing scheme using naive Bayes clas...</td>\n",
       "    </tr>\n",
       "  </tbody>\n",
       "</table>\n",
       "<p>4405 rows × 10 columns</p>\n",
       "</div>"
      ],
      "text/plain": [
       "    PT                                                 AU  \\\n",
       "4    J                Yang, J; Deng, X; Liu, QQ; Ding, RH   \n",
       "27   J       Mishra, U; Gautam, S; Riley, WJ; Hoffman, FM   \n",
       "86   J                                            Coro, G   \n",
       "164  J               Siddiqui, S; Conkle, JL; Sadovski, A   \n",
       "179  J  Webber, H; Lischeid, G; Sommer, M; Finger, R; ...   \n",
       "..  ..                                                ...   \n",
       "718  J  Romero-Mujalli, D; Cappelletto, J; Herrera, EA...   \n",
       "897  C  Jamshidi, P; Siegmund, N; Velez, M; Kastner, C...   \n",
       "941  J  Freitas, LPS; Lopes, MLM; Carvalho, LB; Panoss...   \n",
       "980  J               Lindkvist, E; Ekeberg, O; Norberg, J   \n",
       "995  J               Ho, YH; Huang, YT; Chu, HH; Chen, LJ   \n",
       "\n",
       "                                                    TI       LA  \\\n",
       "4    Temperature error-correction method for surfac...  English   \n",
       "27   Ensemble Machine Learning Approach Improves Pr...  English   \n",
       "86   OPEN SCIENCE AND ARTIFICIAL INTELLIGENCE SUPPO...  English   \n",
       "164  Contiguous US surface water availability and s...  English   \n",
       "179  No perfect storm for crop yield failure in Ger...  English   \n",
       "..                                                 ...      ...   \n",
       "718  The effect of social learning in a small popul...  English   \n",
       "897  Transfer Learning for Performance Modeling of ...  English   \n",
       "941  Forecasting the spatiotemporal variability of ...  English   \n",
       "980  Strategies for sustainable management of renew...  English   \n",
       "995  Adaptive sensing scheme using naive Bayes clas...  English   \n",
       "\n",
       "                                                    DE  \\\n",
       "4    climate change; computational fluid dynamics; ...   \n",
       "27   soil organic carbon; spatial prediction; machi...   \n",
       "86   artificial intelligence; big data; blue growth...   \n",
       "164  Wastewater treatment plant effluent flow model...   \n",
       "179  crop yield failure; extreme events; support ve...   \n",
       "..                                                 ...   \n",
       "718  Learning; Social learning; Agent-based simulat...   \n",
       "897            Performance analysis; transfer learning   \n",
       "941  Neural techniques; Soil respiration; Green har...   \n",
       "980  natural resource management; adaptive manageme...   \n",
       "995  Adaptive sensing; naive Bayes classification; ...   \n",
       "\n",
       "                                                    AB  \\\n",
       "4    In climate change research, accurate temperatu...   \n",
       "27   Various approaches of differing mathematical c...   \n",
       "86   The long-term EU strategy to support the susta...   \n",
       "164  Surface water is a vital and sometimes stresse...   \n",
       "179  Large-scale crop yield failures are increasing...   \n",
       "..                                                 ...   \n",
       "718  Learning is defined as behavioral modification...   \n",
       "897  Modern software systems provide many configura...   \n",
       "941  Carbon dioxide (CO2) is considered one of the ...   \n",
       "980  As a consequence of global environmental chang...   \n",
       "995  Environmental sensors are important for collec...   \n",
       "\n",
       "                                                    C1    PY  \\\n",
       "4    [Yang, Jie; Deng, Xuan; Liu, Qingquan] Nanjing...  2020   \n",
       "27   [Mishra, Umakant; Gautam, Sagar] Sandia Natl L...  2020   \n",
       "86   [Coro, Gianpaolo] Natl Res Council Italy ISTI ...  2020   \n",
       "164  [Siddiqui, Samreen; Conkle, Jeremy L.] Texas A...  2020   \n",
       "179  [Webber, Heidi; Lischeid, Gunnar; Sommer, Mich...  2020   \n",
       "..                                                 ...   ...   \n",
       "718  [Romero-Mujalli, Daniel; Tarano, Zaida] Cent U...  2017   \n",
       "897  [Jamshidi, Pooyan; Velez, Miguel; Kaestner, Ch...  2017   \n",
       "941  [Freitas, Luciana P. S.; Minussi, Carlos R.; L...  2018   \n",
       "980  [Lindkvist, Emilie; Norberg, Jon] Stockholm Un...  2017   \n",
       "995  [Ho, Yao-Hua] Natl Taiwan Normal Univ, 88,Sec ...  2018   \n",
       "\n",
       "                                                    CN  \\\n",
       "4                                [China, China, China]   \n",
       "27       [United States, United States, United States]   \n",
       "86                                             [Italy]   \n",
       "164                     [United States, United States]   \n",
       "179  [Germany, Germany, Germany, Switzerland, Germany]   \n",
       "..                                                 ...   \n",
       "718         [Venezuela, Venezuela, Venezuela, Germany]   \n",
       "897                           [United States, Germany]   \n",
       "941           [Brazil, Brazil, Brazil, Brazil, Brazil]   \n",
       "980                                   [Sweden, Sweden]   \n",
       "995                           [Taiwan, Taiwan, Taiwan]   \n",
       "\n",
       "                                                   TXT  \n",
       "4    Temperature error-correction method for surfac...  \n",
       "27   Ensemble Machine Learning Approach Improves Pr...  \n",
       "86   OPEN SCIENCE AND ARTIFICIAL INTELLIGENCE SUPPO...  \n",
       "164  Contiguous US surface water availability and s...  \n",
       "179  No perfect storm for crop yield failure in Ger...  \n",
       "..                                                 ...  \n",
       "718  The effect of social learning in a small popul...  \n",
       "897  Transfer Learning for Performance Modeling of ...  \n",
       "941  Forecasting the spatiotemporal variability of ...  \n",
       "980  Strategies for sustainable management of renew...  \n",
       "995  Adaptive sensing scheme using naive Bayes clas...  \n",
       "\n",
       "[4405 rows x 10 columns]"
      ]
     },
     "execution_count": 6,
     "metadata": {},
     "output_type": "execute_result"
    }
   ],
   "source": [
    "df = pd.read_pickle(\"data/clean_data/CA_full_data_filtered.pkl\")\n",
    "df"
   ]
  },
  {
   "cell_type": "code",
   "execution_count": 7,
   "id": "91738db6",
   "metadata": {
    "scrolled": true
   },
   "outputs": [
    {
     "data": {
      "text/plain": [
       "4      {'neg': 0.103, 'neu': 0.827, 'pos': 0.07, 'com...\n",
       "27     {'neg': 0.014, 'neu': 0.92, 'pos': 0.066, 'com...\n",
       "86     {'neg': 0.0, 'neu': 0.78, 'pos': 0.22, 'compou...\n",
       "164    {'neg': 0.049, 'neu': 0.867, 'pos': 0.084, 'co...\n",
       "179    {'neg': 0.154, 'neu': 0.782, 'pos': 0.064, 'co...\n",
       "                             ...                        \n",
       "718    {'neg': 0.014, 'neu': 0.902, 'pos': 0.084, 'co...\n",
       "897    {'neg': 0.043, 'neu': 0.898, 'pos': 0.059, 'co...\n",
       "941    {'neg': 0.019, 'neu': 0.937, 'pos': 0.044, 'co...\n",
       "980    {'neg': 0.011, 'neu': 0.751, 'pos': 0.238, 'co...\n",
       "995    {'neg': 0.083, 'neu': 0.835, 'pos': 0.082, 'co...\n",
       "Name: sentiment_score, Length: 4405, dtype: object"
      ]
     },
     "execution_count": 7,
     "metadata": {},
     "output_type": "execute_result"
    }
   ],
   "source": [
    "df['sentiment_score'] = df.TXT.apply(lambda x : sid.polarity_scores(x))\n"
   ]
  },
  {
   "cell_type": "code",
   "execution_count": 8,
   "id": "4912d631",
   "metadata": {},
   "outputs": [],
   "source": [
    "df[\"neg_score\"] = df.sentiment_score.apply(lambda x : x['neg'])\n",
    "df[\"neu_score\"] = df.sentiment_score.apply(lambda x : x['neu'])\n",
    "df[\"pos_score\"] = df.sentiment_score.apply(lambda x : x['pos'])\n",
    "df[\"compound_score\"] = df.sentiment_score.apply(lambda x : x['compound'])\n"
   ]
  },
  {
   "cell_type": "code",
   "execution_count": 9,
   "id": "18b08b8e",
   "metadata": {
    "scrolled": true
   },
   "outputs": [
    {
     "data": {
      "text/plain": [
       "count    4405.000000\n",
       "mean        0.031870\n",
       "std         0.033196\n",
       "min         0.000000\n",
       "25%         0.010000\n",
       "50%         0.023000\n",
       "75%         0.043000\n",
       "max         0.302000\n",
       "Name: neg_score, dtype: float64"
      ]
     },
     "execution_count": 9,
     "metadata": {},
     "output_type": "execute_result"
    }
   ],
   "source": [
    "df.neg_score.describe()"
   ]
  },
  {
   "cell_type": "code",
   "execution_count": 10,
   "id": "1ad920f5",
   "metadata": {
    "scrolled": true
   },
   "outputs": [
    {
     "data": {
      "text/plain": [
       "count    4405.000000\n",
       "mean        0.083040\n",
       "std         0.045073\n",
       "min         0.000000\n",
       "25%         0.052000\n",
       "50%         0.076000\n",
       "75%         0.104000\n",
       "max         0.344000\n",
       "Name: pos_score, dtype: float64"
      ]
     },
     "execution_count": 10,
     "metadata": {},
     "output_type": "execute_result"
    }
   ],
   "source": [
    "df.pos_score.describe()"
   ]
  },
  {
   "cell_type": "code",
   "execution_count": 11,
   "id": "5620e92d",
   "metadata": {
    "scrolled": true
   },
   "outputs": [
    {
     "data": {
      "text/plain": [
       "count    4405.000000\n",
       "mean        0.611266\n",
       "std         0.561592\n",
       "min        -0.996900\n",
       "25%         0.571900\n",
       "50%         0.885300\n",
       "75%         0.959500\n",
       "max         0.998400\n",
       "Name: compound_score, dtype: float64"
      ]
     },
     "execution_count": 11,
     "metadata": {},
     "output_type": "execute_result"
    }
   ],
   "source": [
    "df.compound_score.describe()"
   ]
  },
  {
   "cell_type": "code",
   "execution_count": 32,
   "id": "5d7ac726",
   "metadata": {},
   "outputs": [],
   "source": [
    "# Most negative review\n",
    "condition_neg = df.neg_score > 0.25\n",
    "df_neg = df[condition_neg]\n"
   ]
  },
  {
   "cell_type": "code",
   "execution_count": 33,
   "id": "a36ca8f9",
   "metadata": {},
   "outputs": [
    {
     "name": "stdout",
     "output_type": "stream",
     "text": [
      "688 Cyber-Physical Disaster Drill: Preliminary Results and Social Challenges of the First Attempts to Unify Human, ICT and AI in Disaster Response 0.26\n",
      "---\n",
      "This paper aims to introduce the Cyber-Physical disaster evacuation drill designed by the CyborgCrowd team to implement the collaboration between Human, Information Communication Technology (ICT) and Artificial Intelligence (AI) and hence improve disaster relief planning and effort. We will present some of the preliminary results and the social challenges that the project needs to address in the future.\n",
      "\n",
      "\n",
      "27 Simulating Spatio-Temporal Patterns of Terrorism Incidents on the Indochina Peninsula with GIS and the Random Forest Method 0.286\n",
      "---\n",
      "In recent years, various types of terrorist attacks have occurred which have caused worldwide catastrophes. The ability to proactively detect and even predict a potential terrorist risk is critically important for government agencies to react in a timely manner. In this study, a method of geospatial statistics was used to analyse the spatio-temporal evolution of terrorist attacks on the Indochina Peninsula. The machine learning random forest (RF) method was adopted to predict the potential risk of terrorist attacks on the Indochina Peninsula on a spatial scale with 15 driving factors. The RF model performed well with AUC values of 0.839 [95% confidence interval of 0.833-0.844]. The map of the potential distribution of terrorist attack risk was obtained with a 0.05x0.05-degree (approximately 5x5 km) resolution. The results indicate that Thailand is the most dangerous area for terrorist attacks, especially southern Thailand, Bangkok and its surrounding cities. Middle Cambodia and the northern and southern parts of Myanmar are also high-risk areas. Other areas are relatively low risk. This study provides the hotspots for terrorist attacks on a more fine-grained geographical unit. Meanwhile, it shows that machine learning algorithms (e.g., RF) combined with GIS have great potential for simulating the risk of terrorist attacks.\n",
      "\n",
      "\n",
      "140 Global catastrophic and existential risks communication scale 0.302\n",
      "---\n",
      "Existential risks threaten the future of humanity, but they are difficult to measure. However, to communicate, prioritize and mitigate such risks it is important to estimate their relative significance. Risk probabilities are typically used, but for existential risks they are problematic due to ambiguity, and because quantitative probabilities do not represent some aspects of these risks. Thus, a standardized and easily comprehensible instrument is called for, to communicate dangers from various global catastrophic and existential risks. In this article, inspired by the Torino scale of asteroid danger, we suggest a color coded scale to communicate the magnitude of global catastrophic and existential risks. The scale is based on the probability intervals of risks in the next century if they are available. The risks' estimations could be adjusted based on their severities and other factors. The scale covers not only existential risks, but smaller size global catastrophic risks. It consists of six color levels, which correspond to previously suggested levels of prevention activity. We estimate artificial intelligence risks as \"red\", while \"orange\" risks include nanoteclmology, synthetic biology, full scale nuclear war and a large global agricultural shortfall (caused by regional nuclear war, coincident extreme weather, etc.) The risks of natural pandemic, supervolcanic eruption and global warming are marked as \"yellow\" and the danger from asteroids is \"green\".\n",
      "\n",
      "\n",
      "455 Using Big Data to Enhance Crisis Response and Disaster Resilience for a Smart City 0.27\n",
      "---\n",
      "High population growth, urbanization, and global climate change drive up the frequency of disasters, causing grave losses of people's lives and property worldwide. Additionally, globalization, technological development, and the changing roles of individuals in society will require entirely new approaches, tools, and capabilities to help inform decision making under uncertain conditions. However, the mismatch between the high disaster vulnerability and the low crisis response and disaster resilience becomes a critical problem for emergency management. Recent years, key advances in computing -smartphones, worldwide mobile internet access, social media and industrial big data have all contributed to break through barriers of information exchange which help disaster managers working on data-driven solutions to disaster management problems. Based on big data, the emergency managers can identify and assesse risk through critical infrastructure operating data or sensor data, and then predict the affected population through smartphone data or social media data, and finally provide an operation plan for establishing the target capabilities for a community to response to the crisis. Also, big data plays a part in providing real-time clues of on-site disaster information through data mining. Based on the analyzed real-time disaster information, the research creates real-time feedback loops on nature disaster to help the decision-makers make the real-time update, precision and dynamic rescue plan. In combination, big data can help in all four phases of disaster management: prevention, protection, mitigation, response, and recovery, and can also help us take actions to improve our city's resilience to disasters.\n",
      "\n",
      "\n"
     ]
    }
   ],
   "source": [
    "for ind, row in df_neg.iterrows():\n",
    "    print(ind, row.TI, row.neg_score)\n",
    "    print(\"---\")\n",
    "    print(row.AB)\n",
    "    print('\\n')"
   ]
  },
  {
   "cell_type": "code",
   "execution_count": 17,
   "id": "14811f5b",
   "metadata": {
    "scrolled": true
   },
   "outputs": [
    {
     "data": {
      "text/html": [
       "<div>\n",
       "<style scoped>\n",
       "    .dataframe tbody tr th:only-of-type {\n",
       "        vertical-align: middle;\n",
       "    }\n",
       "\n",
       "    .dataframe tbody tr th {\n",
       "        vertical-align: top;\n",
       "    }\n",
       "\n",
       "    .dataframe thead th {\n",
       "        text-align: right;\n",
       "    }\n",
       "</style>\n",
       "<table border=\"1\" class=\"dataframe\">\n",
       "  <thead>\n",
       "    <tr style=\"text-align: right;\">\n",
       "      <th></th>\n",
       "      <th>PT</th>\n",
       "      <th>AU</th>\n",
       "      <th>TI</th>\n",
       "      <th>LA</th>\n",
       "      <th>DE</th>\n",
       "      <th>AB</th>\n",
       "      <th>C1</th>\n",
       "      <th>PY</th>\n",
       "      <th>CN</th>\n",
       "      <th>TXT</th>\n",
       "      <th>sentiment_score</th>\n",
       "      <th>neg_score</th>\n",
       "      <th>neu_score</th>\n",
       "      <th>pos_score</th>\n",
       "      <th>compound_score</th>\n",
       "    </tr>\n",
       "  </thead>\n",
       "  <tbody>\n",
       "    <tr>\n",
       "      <th>930</th>\n",
       "      <td>C</td>\n",
       "      <td>Liu, XB; Yin, JP</td>\n",
       "      <td>Solving Multi-Center Dynamic Optimization Prob...</td>\n",
       "      <td>English</td>\n",
       "      <td>Artificial Intelligence; Intelligent Computati...</td>\n",
       "      <td>A novel self-learning differential evolution i...</td>\n",
       "      <td>[Liu, Xingbao] Hunan Univ Commerce, Sch Comp &amp;...</td>\n",
       "      <td>2014</td>\n",
       "      <td>[China, China]</td>\n",
       "      <td>Solving Multi-Center Dynamic Optimization Prob...</td>\n",
       "      <td>{'neg': 0.044, 'neu': 0.628, 'pos': 0.328, 'co...</td>\n",
       "      <td>0.044</td>\n",
       "      <td>0.628</td>\n",
       "      <td>0.328</td>\n",
       "      <td>0.9846</td>\n",
       "    </tr>\n",
       "    <tr>\n",
       "      <th>586</th>\n",
       "      <td>C</td>\n",
       "      <td>Petri, I; Alhamami, A; Rezgui, Y; Kubicki, S</td>\n",
       "      <td>A Virtual Collaborative Platform to Support Bu...</td>\n",
       "      <td>English</td>\n",
       "      <td>Virtual collaboration; Construction community;...</td>\n",
       "      <td>There is increased interest in complying with ...</td>\n",
       "      <td>[Petri, Ioan; Alhamami, Ali; Rezgui, Yacine] C...</td>\n",
       "      <td>2018</td>\n",
       "      <td>[United Kingdom, Luxembourg]</td>\n",
       "      <td>A Virtual Collaborative Platform to Support Bu...</td>\n",
       "      <td>{'neg': 0.0, 'neu': 0.656, 'pos': 0.344, 'comp...</td>\n",
       "      <td>0.000</td>\n",
       "      <td>0.656</td>\n",
       "      <td>0.344</td>\n",
       "      <td>0.9982</td>\n",
       "    </tr>\n",
       "    <tr>\n",
       "      <th>453</th>\n",
       "      <td>C</td>\n",
       "      <td>Rajora, M; Zou, P; Liang, SY</td>\n",
       "      <td>RESEARCH ON INTELLIGENT SYSTEMS FOR ENERGY ENG...</td>\n",
       "      <td>English</td>\n",
       "      <td>Artificial intelligence; Energy consumption; E...</td>\n",
       "      <td>In the recent years, manufacturing industries ...</td>\n",
       "      <td>[Rajora, M.; Liang, S. Y.] Georgia Inst Techno...</td>\n",
       "      <td>2016</td>\n",
       "      <td>[United States, China]</td>\n",
       "      <td>RESEARCH ON INTELLIGENT SYSTEMS FOR ENERGY ENG...</td>\n",
       "      <td>{'neg': 0.015, 'neu': 0.667, 'pos': 0.319, 'co...</td>\n",
       "      <td>0.015</td>\n",
       "      <td>0.667</td>\n",
       "      <td>0.319</td>\n",
       "      <td>0.9949</td>\n",
       "    </tr>\n",
       "  </tbody>\n",
       "</table>\n",
       "</div>"
      ],
      "text/plain": [
       "    PT                                            AU  \\\n",
       "930  C                              Liu, XB; Yin, JP   \n",
       "586  C  Petri, I; Alhamami, A; Rezgui, Y; Kubicki, S   \n",
       "453  C                  Rajora, M; Zou, P; Liang, SY   \n",
       "\n",
       "                                                    TI       LA  \\\n",
       "930  Solving Multi-Center Dynamic Optimization Prob...  English   \n",
       "586  A Virtual Collaborative Platform to Support Bu...  English   \n",
       "453  RESEARCH ON INTELLIGENT SYSTEMS FOR ENERGY ENG...  English   \n",
       "\n",
       "                                                    DE  \\\n",
       "930  Artificial Intelligence; Intelligent Computati...   \n",
       "586  Virtual collaboration; Construction community;...   \n",
       "453  Artificial intelligence; Energy consumption; E...   \n",
       "\n",
       "                                                    AB  \\\n",
       "930  A novel self-learning differential evolution i...   \n",
       "586  There is increased interest in complying with ...   \n",
       "453  In the recent years, manufacturing industries ...   \n",
       "\n",
       "                                                    C1    PY  \\\n",
       "930  [Liu, Xingbao] Hunan Univ Commerce, Sch Comp &...  2014   \n",
       "586  [Petri, Ioan; Alhamami, Ali; Rezgui, Yacine] C...  2018   \n",
       "453  [Rajora, M.; Liang, S. Y.] Georgia Inst Techno...  2016   \n",
       "\n",
       "                               CN  \\\n",
       "930                [China, China]   \n",
       "586  [United Kingdom, Luxembourg]   \n",
       "453        [United States, China]   \n",
       "\n",
       "                                                   TXT  \\\n",
       "930  Solving Multi-Center Dynamic Optimization Prob...   \n",
       "586  A Virtual Collaborative Platform to Support Bu...   \n",
       "453  RESEARCH ON INTELLIGENT SYSTEMS FOR ENERGY ENG...   \n",
       "\n",
       "                                       sentiment_score  neg_score  neu_score  \\\n",
       "930  {'neg': 0.044, 'neu': 0.628, 'pos': 0.328, 'co...      0.044      0.628   \n",
       "586  {'neg': 0.0, 'neu': 0.656, 'pos': 0.344, 'comp...      0.000      0.656   \n",
       "453  {'neg': 0.015, 'neu': 0.667, 'pos': 0.319, 'co...      0.015      0.667   \n",
       "\n",
       "     pos_score  compound_score  \n",
       "930      0.328          0.9846  \n",
       "586      0.344          0.9982  \n",
       "453      0.319          0.9949  "
      ]
     },
     "execution_count": 17,
     "metadata": {},
     "output_type": "execute_result"
    }
   ],
   "source": [
    "# Most positive reviews\n",
    "condition_pos = df.pos_score > 0.3\n",
    "df_pos = df[condition_pos]\n",
    "df_pos"
   ]
  },
  {
   "cell_type": "code",
   "execution_count": 28,
   "id": "10d37395",
   "metadata": {},
   "outputs": [
    {
     "name": "stdout",
     "output_type": "stream",
     "text": [
      "930 Solving Multi-Center Dynamic Optimization Problems Using Modified Differential Evolution 0.328\n",
      "---\n",
      "A novel self-learning differential evolution is proposed to solve multi-center optimization under dynamic environments. The approach of Re-evaluating is used to monitor environmental changes, then historial best individual obtained the environment guides population to new environment. What's more, the self-learning mechanism is employed to reduce the impact of dynamic changes of environment.The experimental results on a set of 4 test dynamic functions show that, self-learning differential algorithm outperforms other algorithms in term of the convergence speed.\n",
      "\n",
      "\n",
      "586 A Virtual Collaborative Platform to Support Building Information Modeling Implementation for Energy Efficiency 0.344\n",
      "---\n",
      "There is increased interest in complying with the new regulations and policies associated with the climate change. In particular industries such as the AEC (Architecture, Engineering and Construction) industry seek to find new strategies and practices for facilitating sustainability but also new regulations to improve efficiency at the building level. Institutions and industrial bodies are now in the process of alignment with new legislative stipulations regarding carbon emissions with wider reflection into environment, social and economic models. At building level such strategies refer to decarbonisation and energy efficiency supported with data driven techniques enriched with virtual collaboration and optimization methods. The increased interest of the research community in Building Information Modeling (BIM) has facilitated numerous solutions ranging from digital products, information retrieval, and optimization techniques all aiming at addressing energy optimization and performance gap reduction. In this paper we present how a virtual collaborative system can be efficiently used for implementing BIM based energy optimization for controlling, monitoring buildings and running energy optimization, greatly contributing to creating a BIM construction community with energy practices. The solution described, known as energy-bim.com platform, disseminates energy efficient practices and community engagement and provides support for building managers in implementing energy efficient optimization plans.\n",
      "\n",
      "\n",
      "453 RESEARCH ON INTELLIGENT SYSTEMS FOR ENERGY ENGINEERING 0.319\n",
      "---\n",
      "In the recent years, manufacturing industries have accounted for one-third of the world total energy consumption and CO2 production. These issues, paired with the growing concern over global warming and increasing energy cost, have led to growing efforts to minimize the energy consumption everywhere, especially in the manufacturing industries. The advancement in computation and information systems have enabled researchers to develop intelligent systems that can be used for power, energy efficient machinery, temperature control, and intelligent scheduling systems that consider both productivity and energy efficiency as their objectives. With the aim of minimizing the energy consumption, researchers have also focused on the production and distribution of electricity. The intelligent techniques have been applied to solve this problem and one of the successful applications is known as \"smart grids\". The application of these intelligent technologies is not only limited to manufacturing. It can also be applied to a variety of other fields in order to create a more energy efficient environment.\n",
      "\n",
      "\n"
     ]
    }
   ],
   "source": [
    "for ind, row in df_pos.iterrows():\n",
    "    print(ind, row.TI, row.pos_score)\n",
    "    print(\"---\")\n",
    "    print(row.AB)\n",
    "    print('\\n')"
   ]
  },
  {
   "cell_type": "code",
   "execution_count": null,
   "id": "6aebb6a8",
   "metadata": {},
   "outputs": [],
   "source": []
  }
 ],
 "metadata": {
  "kernelspec": {
   "display_name": "Python 3 (ipykernel)",
   "language": "python",
   "name": "python3"
  },
  "language_info": {
   "codemirror_mode": {
    "name": "ipython",
    "version": 3
   },
   "file_extension": ".py",
   "mimetype": "text/x-python",
   "name": "python",
   "nbconvert_exporter": "python",
   "pygments_lexer": "ipython3",
   "version": "3.8.11"
  }
 },
 "nbformat": 4,
 "nbformat_minor": 5
}
